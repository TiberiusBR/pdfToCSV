{
 "metadata": {
  "language_info": {
   "codemirror_mode": {
    "name": "ipython",
    "version": 3
   },
   "file_extension": ".py",
   "mimetype": "text/x-python",
   "name": "python",
   "nbconvert_exporter": "python",
   "pygments_lexer": "ipython3",
   "version": "3.9.4"
  },
  "orig_nbformat": 2,
  "kernelspec": {
   "name": "python394jvsc74a57bd063fd5069d213b44bf678585dea6b12cceca9941eaf7f819626cde1f2670de90d",
   "display_name": "Python 3.9.4 64-bit"
  },
  "metadata": {
   "interpreter": {
    "hash": "63fd5069d213b44bf678585dea6b12cceca9941eaf7f819626cde1f2670de90d"
   }
  }
 },
 "nbformat": 4,
 "nbformat_minor": 2,
 "cells": [
  {
   "cell_type": "code",
   "execution_count": null,
   "metadata": {},
   "outputs": [],
   "source": [
    "# Usaremos a biblioteca camelot para extrair as tables especificas do pdf\n",
    "# Devem ser instaladas as dependências Ghostscript e Tkinter\n",
    "# O tutorial completo se encontra aqui:\n",
    "# https://camelot-py.readthedocs.io/en/master/user/install-deps.html\n",
    "\n",
    "# Após instalar elas, instale o camelot usando:\n",
    "# pip install \"camelot-py[cv]\"\n",
    "\n",
    "# OPCIONAL - Para uso com notebook / Linux\n",
    "#!pip install \"camelot-py\"[cv]\n",
    "#!apt install ghostscript python3-tk\n",
    "\n",
    "import camelot\n",
    "\n",
    "# Usaremos zipFile para compactar os arquivos\n",
    "from zipfile import ZipFile\n",
    "import os\n",
    "\n",
    "# Para facilitar a obtenção do arquivo, usaremos requests para baixar o próprio.\n",
    "import requests\n"
   ]
  },
  {
   "cell_type": "code",
   "execution_count": null,
   "metadata": {},
   "outputs": [],
   "source": [
    "# Verifica se o arquivo já existe. Caso ele exista, o download do mesmo será ignorado\n",
    "if os.path.isfile('./tiss.pdf'):\n",
    "    print(\"The file already exists. Skipping download... \\n\")\n",
    "else:\n",
    "    url = \"http://www.ans.gov.br/images/stories/Plano_de_saude_e_Operadoras/tiss/Padrao_tiss/tiss3/Padr%C3%A3o_TISS_Componente_Organizacional_202103.pdf\"\n",
    "    r = requests.get(url)\n",
    "    with open('./tiss.pdf', 'wb') as f:\n",
    "        f.write(r.content)"
   ]
  },
  {
   "cell_type": "code",
   "execution_count": null,
   "metadata": {},
   "outputs": [],
   "source": [
    "# A função export permite que transformar todas as tabelas encontradas para um formato especifico. Nesse caso, transformaremos em csv.\n",
    "tables.export('table.csv', f='csv')\n",
    "print(\"Table successfully exported as .csv. \\n\")"
   ]
  },
  {
   "cell_type": "code",
   "execution_count": null,
   "metadata": {},
   "outputs": [],
   "source": [
    "# Passamos o diretório atual ao python e guardamos todos os nomes dos arquivos em uma variável\n",
    "directory = \"./\"\n",
    "dir_files = os.listdir(directory)\n",
    "\n",
    "# Depois, filtramos para acessar apenas os arquivos que terminam em .csv\n",
    "csv_files = [file for file in dir_files if file.endswith(\".csv\")]"
   ]
  },
  {
   "cell_type": "code",
   "execution_count": null,
   "metadata": {},
   "outputs": [],
   "source": [
    "# Verifica se o arquivo zip já existe por algum motivo.\n",
    "zipName = 'Teste_Intuitive_Care_FelipeFreire.zip'\n",
    "if os.path.isfile(zipName):\n",
    "    print(\"The compressed files already exists. Skipping compression... \\n\")\n",
    "else:\n",
    "    # Criamos um arquivo do tipo zip, passando o parametro 'w', dizendo ao zipfile que queremos apenas escrever arquivos nele\n",
    "    zipObj = ZipFile('Teste_Intuitive_Care_FelipeFreire.zip', 'w')\n",
    "\n",
    "    # E aqui adicionaremos os arquivos csv ao zip...\n",
    "    for file in csv_files:\n",
    "        csv_table = os.path.join(directory, file)\n",
    "        zipObj.write(csv_table)\n",
    "\n",
    "    # E tiramos o arquivo da stream, removendo ele.\n",
    "    zipObj.close()\n",
    "    print(\".csv files compressed into .zip. \\n\")"
   ]
  },
  {
   "cell_type": "code",
   "execution_count": null,
   "metadata": {},
   "outputs": [],
   "source": [
    "# Essa parte final tem como objetivo deletar todos os arquivos csv. É opcional, a resposta deve ser dada pelo console\n",
    "print(\"Delete all .csv files? Y / N \\n\")\n",
    "ans = input()\n",
    "\n",
    "if ans == 'Y':\n",
    "    for file in csv_files:\n",
    "        path_to_file = os.path.join(directory, file)\n",
    "        os.remove(path_to_file)\n",
    "    print(\".csv files deleted.\\n\")\n",
    "\n",
    "print(\"Done!\")\n"
   ]
  }
 ]
}